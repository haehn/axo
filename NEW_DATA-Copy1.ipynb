{
 "cells": [
  {
   "cell_type": "code",
   "execution_count": 1,
   "id": "38eaf11b",
   "metadata": {},
   "outputs": [
    {
     "name": "stdout",
     "output_type": "stream",
     "text": [
      "%pylab is deprecated, use %matplotlib inline and import the required libraries.\n",
      "Populating the interactive namespace from numpy and matplotlib\n"
     ]
    }
   ],
   "source": [
    "%pylab inline"
   ]
  },
  {
   "cell_type": "code",
   "execution_count": 2,
   "id": "000d0ec0",
   "metadata": {},
   "outputs": [],
   "source": [
    "from aicsimageio import AICSImage\n",
    "import pyvips\n",
    "import os, time"
   ]
  },
  {
   "cell_type": "code",
   "execution_count": 18,
   "id": "ce0382b1",
   "metadata": {},
   "outputs": [],
   "source": [
    "DATA_DIR = \"/raid/mpsych/AXOLOTL\"\n",
    "SCAN = \"MRE11_20 LHL Slide 1(1).czi\"\n",
    "SHORT_SCAN = \"MRE11_30\"\n",
    "\n",
    "OUTPUT_DIR = \"web/\" + SHORT_SCAN"
   ]
  },
  {
   "cell_type": "code",
   "execution_count": 19,
   "id": "d1aa35fd",
   "metadata": {},
   "outputs": [],
   "source": [
    "img = AICSImage(os.path.join(DATA_DIR, SCAN))"
   ]
  },
  {
   "cell_type": "code",
   "execution_count": 20,
   "id": "a165ed90",
   "metadata": {},
   "outputs": [
    {
     "name": "stderr",
     "output_type": "stream",
     "text": [
      "\n",
      "KeyboardInterrupt\n",
      "\n"
     ]
    }
   ],
   "source": [
    "img.dims"
   ]
  },
  {
   "cell_type": "code",
   "execution_count": 16,
   "id": "2dfd09af",
   "metadata": {},
   "outputs": [
    {
     "data": {
      "text/plain": [
       "(1, 2, 1, 0, 0)"
      ]
     },
     "execution_count": 16,
     "metadata": {},
     "output_type": "execute_result"
    }
   ],
   "source": [
    "img.shape"
   ]
  },
  {
   "cell_type": "code",
   "execution_count": 17,
   "id": "d4c9e219",
   "metadata": {},
   "outputs": [
    {
     "ename": "PylibCZI_CDimCoordinatesOverspecifiedException",
     "evalue": "The coordinates are overspecified = you have specified a Dimension or Dimension value that is not valid. S Not present in defined file Coordinates!",
     "output_type": "error",
     "traceback": [
      "\u001b[0;31m---------------------------------------------------------------------------\u001b[0m",
      "\u001b[0;31mPylibCZI_CDimCoordinatesOverspecifiedException\u001b[0mTraceback (most recent call last)",
      "Input \u001b[0;32mIn [17]\u001b[0m, in \u001b[0;36m<cell line: 1>\u001b[0;34m()\u001b[0m\n\u001b[0;32m----> 1\u001b[0m stack \u001b[38;5;241m=\u001b[39m \u001b[43mimg\u001b[49m\u001b[38;5;241;43m.\u001b[39;49m\u001b[43mget_stack\u001b[49m\u001b[43m(\u001b[49m\u001b[43mselect_scenes\u001b[49m\u001b[38;5;241;43m=\u001b[39;49m\u001b[43mimg\u001b[49m\u001b[38;5;241;43m.\u001b[39;49m\u001b[43mscenes\u001b[49m\u001b[43m)\u001b[49m\n",
      "File \u001b[0;32m~/miniconda3/envs/AXO/lib/python3.10/site-packages/aicsimageio/aics_image.py:739\u001b[0m, in \u001b[0;36mAICSImage.get_stack\u001b[0;34m(self, **kwargs)\u001b[0m\n\u001b[1;32m    721\u001b[0m \u001b[38;5;28;01mdef\u001b[39;00m \u001b[38;5;21mget_stack\u001b[39m(\u001b[38;5;28mself\u001b[39m, \u001b[38;5;241m*\u001b[39m\u001b[38;5;241m*\u001b[39mkwargs: Any) \u001b[38;5;241m-\u001b[39m\u001b[38;5;241m>\u001b[39m np\u001b[38;5;241m.\u001b[39mndarray:\n\u001b[1;32m    722\u001b[0m     \u001b[38;5;124;03m\"\"\"\u001b[39;00m\n\u001b[1;32m    723\u001b[0m \u001b[38;5;124;03m    Get all scenes stacked in to a single array.\u001b[39;00m\n\u001b[1;32m    724\u001b[0m \n\u001b[0;32m   (...)\u001b[0m\n\u001b[1;32m    737\u001b[0m \u001b[38;5;124;03m        Underlying function for generating various scene stacks.\u001b[39;00m\n\u001b[1;32m    738\u001b[0m \u001b[38;5;124;03m    \"\"\"\u001b[39;00m\n\u001b[0;32m--> 739\u001b[0m     \u001b[38;5;28;01mreturn\u001b[39;00m \u001b[43mtransforms\u001b[49m\u001b[38;5;241;43m.\u001b[39;49m\u001b[43mgenerate_stack\u001b[49m\u001b[43m(\u001b[49m\u001b[38;5;28;43mself\u001b[39;49m\u001b[43m,\u001b[49m\u001b[43m \u001b[49m\u001b[38;5;124;43m\"\u001b[39;49m\u001b[38;5;124;43mdata\u001b[39;49m\u001b[38;5;124;43m\"\u001b[39;49m\u001b[43m,\u001b[49m\u001b[43m \u001b[49m\u001b[38;5;241;43m*\u001b[39;49m\u001b[38;5;241;43m*\u001b[39;49m\u001b[43mkwargs\u001b[49m\u001b[43m)\u001b[49m\n",
      "File \u001b[0;32m~/miniconda3/envs/AXO/lib/python3.10/site-packages/aicsimageio/transforms.py:352\u001b[0m, in \u001b[0;36mgenerate_stack\u001b[0;34m(image_container, mode, drop_non_matching_scenes, select_scenes, scene_character, scene_coord_values)\u001b[0m\n\u001b[1;32m    350\u001b[0m \u001b[38;5;28;01mfor\u001b[39;00m i, s \u001b[38;5;129;01min\u001b[39;00m \u001b[38;5;28menumerate\u001b[39m(select_scenes):\n\u001b[1;32m    351\u001b[0m     image_container\u001b[38;5;241m.\u001b[39mset_scene(s)\n\u001b[0;32m--> 352\u001b[0m     data \u001b[38;5;241m=\u001b[39m \u001b[38;5;28;43mgetattr\u001b[39;49m\u001b[43m(\u001b[49m\u001b[43mimage_container\u001b[49m\u001b[43m,\u001b[49m\u001b[43m \u001b[49m\u001b[43mmode\u001b[49m\u001b[43m)\u001b[49m\n\u001b[1;32m    354\u001b[0m     \u001b[38;5;66;03m# Store the shape and dtype of the first scenes data\u001b[39;00m\n\u001b[1;32m    355\u001b[0m     \u001b[38;5;66;03m# to check against later scenes. If returning a DataArray\u001b[39;00m\n\u001b[1;32m    356\u001b[0m     \u001b[38;5;66;03m# store the coords and dims to use in the final output\u001b[39;00m\n\u001b[1;32m    357\u001b[0m     \u001b[38;5;28;01mif\u001b[39;00m i \u001b[38;5;241m==\u001b[39m \u001b[38;5;241m0\u001b[39m:\n",
      "File \u001b[0;32m~/miniconda3/envs/AXO/lib/python3.10/site-packages/aicsimageio/aics_image.py:529\u001b[0m, in \u001b[0;36mAICSImage.data\u001b[0;34m(self)\u001b[0m\n\u001b[1;32m    516\u001b[0m \u001b[38;5;129m@property\u001b[39m\n\u001b[1;32m    517\u001b[0m \u001b[38;5;28;01mdef\u001b[39;00m \u001b[38;5;21mdata\u001b[39m(\u001b[38;5;28mself\u001b[39m) \u001b[38;5;241m-\u001b[39m\u001b[38;5;241m>\u001b[39m np\u001b[38;5;241m.\u001b[39mndarray:\n\u001b[1;32m    518\u001b[0m     \u001b[38;5;124;03m\"\"\"\u001b[39;00m\n\u001b[1;32m    519\u001b[0m \u001b[38;5;124;03m    Returns\u001b[39;00m\n\u001b[1;32m    520\u001b[0m \u001b[38;5;124;03m    -------\u001b[39;00m\n\u001b[0;32m   (...)\u001b[0m\n\u001b[1;32m    527\u001b[0m \u001b[38;5;124;03m    Recommended to use `dask_data` for large mosaic images.\u001b[39;00m\n\u001b[1;32m    528\u001b[0m \u001b[38;5;124;03m    \"\"\"\u001b[39;00m\n\u001b[0;32m--> 529\u001b[0m     \u001b[38;5;28;01mreturn\u001b[39;00m \u001b[38;5;28;43mself\u001b[39;49m\u001b[38;5;241;43m.\u001b[39;49m\u001b[43mxarray_data\u001b[49m\u001b[38;5;241m.\u001b[39mdata\n",
      "File \u001b[0;32m~/miniconda3/envs/AXO/lib/python3.10/site-packages/aicsimageio/aics_image.py:488\u001b[0m, in \u001b[0;36mAICSImage.xarray_data\u001b[0;34m(self)\u001b[0m\n\u001b[1;32m    480\u001b[0m         \u001b[38;5;28mself\u001b[39m\u001b[38;5;241m.\u001b[39m_xarray_data \u001b[38;5;241m=\u001b[39m (\n\u001b[1;32m    481\u001b[0m             \u001b[38;5;28mself\u001b[39m\u001b[38;5;241m.\u001b[39m_transform_data_array_to_aics_image_standard(\n\u001b[1;32m    482\u001b[0m                 \u001b[38;5;28mself\u001b[39m\u001b[38;5;241m.\u001b[39mreader\u001b[38;5;241m.\u001b[39mxarray_data\n\u001b[1;32m    483\u001b[0m             )\n\u001b[1;32m    484\u001b[0m         )\n\u001b[1;32m    486\u001b[0m \u001b[38;5;28;01melse\u001b[39;00m:\n\u001b[1;32m    487\u001b[0m     \u001b[38;5;28mself\u001b[39m\u001b[38;5;241m.\u001b[39m_xarray_data \u001b[38;5;241m=\u001b[39m \u001b[38;5;28mself\u001b[39m\u001b[38;5;241m.\u001b[39m_transform_data_array_to_aics_image_standard(\n\u001b[0;32m--> 488\u001b[0m         \u001b[38;5;28;43mself\u001b[39;49m\u001b[38;5;241;43m.\u001b[39;49m\u001b[43mreader\u001b[49m\u001b[38;5;241;43m.\u001b[39;49m\u001b[43mxarray_data\u001b[49m\n\u001b[1;32m    489\u001b[0m     )\n\u001b[1;32m    491\u001b[0m \u001b[38;5;66;03m# Remake the delayed xarray dataarray object using a rechunked dask array\u001b[39;00m\n\u001b[1;32m    492\u001b[0m \u001b[38;5;66;03m# from the just retrieved in-memory xarray dataarray\u001b[39;00m\n\u001b[1;32m    493\u001b[0m \u001b[38;5;28mself\u001b[39m\u001b[38;5;241m.\u001b[39m_xarray_dask_data \u001b[38;5;241m=\u001b[39m xr\u001b[38;5;241m.\u001b[39mDataArray(\n\u001b[1;32m    494\u001b[0m     da\u001b[38;5;241m.\u001b[39mfrom_array(\u001b[38;5;28mself\u001b[39m\u001b[38;5;241m.\u001b[39m_xarray_data\u001b[38;5;241m.\u001b[39mdata),\n\u001b[1;32m    495\u001b[0m     dims\u001b[38;5;241m=\u001b[39m\u001b[38;5;28mself\u001b[39m\u001b[38;5;241m.\u001b[39m_xarray_data\u001b[38;5;241m.\u001b[39mdims,\n\u001b[1;32m    496\u001b[0m     coords\u001b[38;5;241m=\u001b[39m\u001b[38;5;28mself\u001b[39m\u001b[38;5;241m.\u001b[39m_xarray_data\u001b[38;5;241m.\u001b[39mcoords,\n\u001b[1;32m    497\u001b[0m     attrs\u001b[38;5;241m=\u001b[39m\u001b[38;5;28mself\u001b[39m\u001b[38;5;241m.\u001b[39m_xarray_data\u001b[38;5;241m.\u001b[39mattrs,\n\u001b[1;32m    498\u001b[0m )\n",
      "File \u001b[0;32m~/miniconda3/envs/AXO/lib/python3.10/site-packages/aicsimageio/readers/reader.py:372\u001b[0m, in \u001b[0;36mReader.xarray_data\u001b[0;34m(self)\u001b[0m\n\u001b[1;32m    365\u001b[0m \u001b[38;5;124;03m\"\"\"\u001b[39;00m\n\u001b[1;32m    366\u001b[0m \u001b[38;5;124;03mReturns\u001b[39;00m\n\u001b[1;32m    367\u001b[0m \u001b[38;5;124;03m-------\u001b[39;00m\n\u001b[1;32m    368\u001b[0m \u001b[38;5;124;03mxarray_data: xr.DataArray\u001b[39;00m\n\u001b[1;32m    369\u001b[0m \u001b[38;5;124;03m    The fully read image and metadata as an annotated data array.\u001b[39;00m\n\u001b[1;32m    370\u001b[0m \u001b[38;5;124;03m\"\"\"\u001b[39;00m\n\u001b[1;32m    371\u001b[0m \u001b[38;5;28;01mif\u001b[39;00m \u001b[38;5;28mself\u001b[39m\u001b[38;5;241m.\u001b[39m_xarray_data \u001b[38;5;129;01mis\u001b[39;00m \u001b[38;5;28;01mNone\u001b[39;00m:\n\u001b[0;32m--> 372\u001b[0m     \u001b[38;5;28mself\u001b[39m\u001b[38;5;241m.\u001b[39m_xarray_data \u001b[38;5;241m=\u001b[39m \u001b[38;5;28;43mself\u001b[39;49m\u001b[38;5;241;43m.\u001b[39;49m\u001b[43m_read_immediate\u001b[49m\u001b[43m(\u001b[49m\u001b[43m)\u001b[49m\n\u001b[1;32m    374\u001b[0m     \u001b[38;5;66;03m# Remake the delayed xarray dataarray object using a rechunked dask array\u001b[39;00m\n\u001b[1;32m    375\u001b[0m     \u001b[38;5;66;03m# from the just retrieved in-memory xarray dataarray\u001b[39;00m\n\u001b[1;32m    376\u001b[0m     \u001b[38;5;28mself\u001b[39m\u001b[38;5;241m.\u001b[39m_xarray_dask_data \u001b[38;5;241m=\u001b[39m xr\u001b[38;5;241m.\u001b[39mDataArray(\n\u001b[1;32m    377\u001b[0m         da\u001b[38;5;241m.\u001b[39mfrom_array(\u001b[38;5;28mself\u001b[39m\u001b[38;5;241m.\u001b[39m_xarray_data\u001b[38;5;241m.\u001b[39mdata),\n\u001b[1;32m    378\u001b[0m         dims\u001b[38;5;241m=\u001b[39m\u001b[38;5;28mself\u001b[39m\u001b[38;5;241m.\u001b[39m_xarray_data\u001b[38;5;241m.\u001b[39mdims,\n\u001b[1;32m    379\u001b[0m         coords\u001b[38;5;241m=\u001b[39m\u001b[38;5;28mself\u001b[39m\u001b[38;5;241m.\u001b[39m_xarray_data\u001b[38;5;241m.\u001b[39mcoords,\n\u001b[1;32m    380\u001b[0m         attrs\u001b[38;5;241m=\u001b[39m\u001b[38;5;28mself\u001b[39m\u001b[38;5;241m.\u001b[39m_xarray_data\u001b[38;5;241m.\u001b[39mattrs,\n\u001b[1;32m    381\u001b[0m     )\n",
      "File \u001b[0;32m~/miniconda3/envs/AXO/lib/python3.10/site-packages/aicsimageio/readers/czi_reader.py:691\u001b[0m, in \u001b[0;36mCziReader._read_immediate\u001b[0;34m(self)\u001b[0m\n\u001b[1;32m    684\u001b[0m dims_shape \u001b[38;5;241m=\u001b[39m CziReader\u001b[38;5;241m.\u001b[39m_dims_shape_to_scene_dims_shape(\n\u001b[1;32m    685\u001b[0m     dims_shape\u001b[38;5;241m=\u001b[39mczi\u001b[38;5;241m.\u001b[39mget_dims_shape(),\n\u001b[1;32m    686\u001b[0m     scene_index\u001b[38;5;241m=\u001b[39m\u001b[38;5;28mself\u001b[39m\u001b[38;5;241m.\u001b[39mcurrent_scene_index,\n\u001b[1;32m    687\u001b[0m     consistent\u001b[38;5;241m=\u001b[39mczi\u001b[38;5;241m.\u001b[39mshape_is_consistent,\n\u001b[1;32m    688\u001b[0m )\n\u001b[1;32m    690\u001b[0m \u001b[38;5;66;03m# Get image data\u001b[39;00m\n\u001b[0;32m--> 691\u001b[0m image_data, _ \u001b[38;5;241m=\u001b[39m \u001b[38;5;28;43mself\u001b[39;49m\u001b[38;5;241;43m.\u001b[39;49m\u001b[43m_get_image_data\u001b[49m\u001b[43m(\u001b[49m\n\u001b[1;32m    692\u001b[0m \u001b[43m    \u001b[49m\u001b[43mfs\u001b[49m\u001b[38;5;241;43m=\u001b[39;49m\u001b[38;5;28;43mself\u001b[39;49m\u001b[38;5;241;43m.\u001b[39;49m\u001b[43m_fs\u001b[49m\u001b[43m,\u001b[49m\n\u001b[1;32m    693\u001b[0m \u001b[43m    \u001b[49m\u001b[43mpath\u001b[49m\u001b[38;5;241;43m=\u001b[39;49m\u001b[38;5;28;43mself\u001b[39;49m\u001b[38;5;241;43m.\u001b[39;49m\u001b[43m_path\u001b[49m\u001b[43m,\u001b[49m\n\u001b[1;32m    694\u001b[0m \u001b[43m    \u001b[49m\u001b[43mscene\u001b[49m\u001b[38;5;241;43m=\u001b[39;49m\u001b[38;5;28;43mself\u001b[39;49m\u001b[38;5;241;43m.\u001b[39;49m\u001b[43mcurrent_scene_index\u001b[49m\u001b[43m,\u001b[49m\n\u001b[1;32m    695\u001b[0m \u001b[43m\u001b[49m\u001b[43m)\u001b[49m\n\u001b[1;32m    697\u001b[0m \u001b[38;5;66;03m# Get metadata\u001b[39;00m\n\u001b[1;32m    698\u001b[0m meta \u001b[38;5;241m=\u001b[39m czi\u001b[38;5;241m.\u001b[39mmeta\n",
      "File \u001b[0;32m~/miniconda3/envs/AXO/lib/python3.10/site-packages/aicsimageio/readers/czi_reader.py:339\u001b[0m, in \u001b[0;36mCziReader._get_image_data\u001b[0;34m(fs, path, scene, read_dims)\u001b[0m\n\u001b[1;32m    336\u001b[0m read_dims[CZI_SCENE_DIM_CHAR] \u001b[38;5;241m=\u001b[39m adjusted_scene_index\n\u001b[1;32m    338\u001b[0m \u001b[38;5;66;03m# Read image\u001b[39;00m\n\u001b[0;32m--> 339\u001b[0m data, dims \u001b[38;5;241m=\u001b[39m \u001b[43mczi\u001b[49m\u001b[38;5;241;43m.\u001b[39;49m\u001b[43mread_image\u001b[49m\u001b[43m(\u001b[49m\u001b[38;5;241;43m*\u001b[39;49m\u001b[38;5;241;43m*\u001b[39;49m\u001b[43mread_dims\u001b[49m\u001b[43m)\u001b[49m\n\u001b[1;32m    341\u001b[0m \u001b[38;5;66;03m# Drop dims that shouldn't be provided back\u001b[39;00m\n\u001b[1;32m    342\u001b[0m ops: List[Union[\u001b[38;5;28mint\u001b[39m, \u001b[38;5;28mslice\u001b[39m]] \u001b[38;5;241m=\u001b[39m []\n",
      "File \u001b[0;32m~/miniconda3/envs/AXO/lib/python3.10/site-packages/aicspylibczi/CziFile.py:552\u001b[0m, in \u001b[0;36mCziFile.read_image\u001b[0;34m(self, **kwargs)\u001b[0m\n\u001b[1;32m    549\u001b[0m m_index \u001b[38;5;241m=\u001b[39m \u001b[38;5;28mself\u001b[39m\u001b[38;5;241m.\u001b[39m_get_m_index_from_kwargs(kwargs)\n\u001b[1;32m    550\u001b[0m cores \u001b[38;5;241m=\u001b[39m \u001b[38;5;28mself\u001b[39m\u001b[38;5;241m.\u001b[39m_get_cores_from_kwargs(kwargs)\n\u001b[0;32m--> 552\u001b[0m image, shape \u001b[38;5;241m=\u001b[39m \u001b[38;5;28;43mself\u001b[39;49m\u001b[38;5;241;43m.\u001b[39;49m\u001b[43mreader\u001b[49m\u001b[38;5;241;43m.\u001b[39;49m\u001b[43mread_selected\u001b[49m\u001b[43m(\u001b[49m\u001b[43mplane_constraints\u001b[49m\u001b[43m,\u001b[49m\u001b[43m \u001b[49m\u001b[43mm_index\u001b[49m\u001b[43m,\u001b[49m\u001b[43m \u001b[49m\u001b[43mcores\u001b[49m\u001b[43m)\u001b[49m\n\u001b[1;32m    553\u001b[0m \u001b[38;5;28;01mreturn\u001b[39;00m image, shape\n",
      "\u001b[0;31mPylibCZI_CDimCoordinatesOverspecifiedException\u001b[0m: The coordinates are overspecified = you have specified a Dimension or Dimension value that is not valid. S Not present in defined file Coordinates!"
     ]
    }
   ],
   "source": [
    "stack = img.get_stack(select_scenes=img.scenes)"
   ]
  },
  {
   "cell_type": "code",
   "execution_count": null,
   "id": "9dc50cdf",
   "metadata": {},
   "outputs": [],
   "source": [
    "stack.shape"
   ]
  },
  {
   "cell_type": "code",
   "execution_count": null,
   "id": "711d39e1",
   "metadata": {},
   "outputs": [],
   "source": [
    "r = stack[0,0,0,0,:,:]\n",
    "g = stack[0,0,1,0,:,:]"
   ]
  },
  {
   "cell_type": "code",
   "execution_count": null,
   "id": "af577831",
   "metadata": {},
   "outputs": [],
   "source": [
    "r.shape, r.min(), r.max()"
   ]
  },
  {
   "cell_type": "code",
   "execution_count": null,
   "id": "7c5de6b9",
   "metadata": {},
   "outputs": [],
   "source": [
    "g.shape, g.min(), g.max()"
   ]
  },
  {
   "cell_type": "code",
   "execution_count": null,
   "id": "868b7a12",
   "metadata": {},
   "outputs": [],
   "source": [
    "b = g.copy() # fake 3rd channel"
   ]
  },
  {
   "cell_type": "code",
   "execution_count": null,
   "id": "3bd2a9ec",
   "metadata": {},
   "outputs": [],
   "source": [
    "arr = np.stack([r,g,b], axis=2)"
   ]
  },
  {
   "cell_type": "code",
   "execution_count": null,
   "id": "91c7eee9",
   "metadata": {},
   "outputs": [],
   "source": [
    "arr.shape"
   ]
  },
  {
   "cell_type": "code",
   "execution_count": null,
   "id": "27367f3e",
   "metadata": {},
   "outputs": [],
   "source": [
    "arr.dtype"
   ]
  },
  {
   "cell_type": "code",
   "execution_count": null,
   "id": "de7761f4",
   "metadata": {},
   "outputs": [],
   "source": [
    "arr = arr.astype(float)\n",
    "arr /= arr.max()"
   ]
  },
  {
   "cell_type": "code",
   "execution_count": null,
   "id": "4c3d4318",
   "metadata": {},
   "outputs": [],
   "source": []
  },
  {
   "cell_type": "code",
   "execution_count": null,
   "id": "1c6d9bb4",
   "metadata": {},
   "outputs": [],
   "source": [
    "imshow(arr[::10,::10,:])"
   ]
  },
  {
   "cell_type": "code",
   "execution_count": null,
   "id": "ae23f6a8",
   "metadata": {},
   "outputs": [],
   "source": []
  },
  {
   "cell_type": "code",
   "execution_count": null,
   "id": "33e47af9",
   "metadata": {},
   "outputs": [],
   "source": []
  },
  {
   "cell_type": "code",
   "execution_count": null,
   "id": "49495e2e",
   "metadata": {},
   "outputs": [],
   "source": []
  }
 ],
 "metadata": {
  "kernelspec": {
   "display_name": "Python 3 (ipykernel)",
   "language": "python",
   "name": "python3"
  },
  "language_info": {
   "codemirror_mode": {
    "name": "ipython",
    "version": 3
   },
   "file_extension": ".py",
   "mimetype": "text/x-python",
   "name": "python",
   "nbconvert_exporter": "python",
   "pygments_lexer": "ipython3",
   "version": "3.10.6"
  }
 },
 "nbformat": 4,
 "nbformat_minor": 5
}
